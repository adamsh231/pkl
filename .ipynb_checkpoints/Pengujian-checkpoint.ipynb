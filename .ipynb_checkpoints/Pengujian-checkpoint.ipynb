{
 "cells": [
  {
   "cell_type": "code",
   "execution_count": 1,
   "metadata": {
    "ExecuteTime": {
     "end_time": "2020-04-09T20:17:42.342634Z",
     "start_time": "2020-04-09T20:17:34.157937Z"
    },
    "deletable": false,
    "editable": false
   },
   "outputs": [],
   "source": [
    "import numpy as np\n",
    "import pandas as pd\n",
    "import math\n",
    "import random\n",
    "import dill\n",
    "try:\n",
    "    dill.load_session('Pengujian.db')\n",
    "except Exception as ex:\n",
    "    print(\"Data Belum Tersimpan!\")"
   ]
  },
  {
   "cell_type": "markdown",
   "metadata": {
    "deletable": false,
    "editable": false
   },
   "source": [
    "# Support"
   ]
  },
  {
   "cell_type": "code",
   "execution_count": 2,
   "metadata": {
    "ExecuteTime": {
     "end_time": "2020-04-09T20:17:42.355597Z",
     "start_time": "2020-04-09T20:17:42.345626Z"
    },
    "deletable": false,
    "editable": false
   },
   "outputs": [],
   "source": [
    "def count_label(data):\n",
    "    distinct = [data[0][-1]]\n",
    "    for i in range(len(data)):\n",
    "        check = True\n",
    "        for j in range(len(distinct)):\n",
    "            if distinct[j] == data[i][-1]:\n",
    "                check = False\n",
    "        if check:\n",
    "            distinct.append(data[i][-1])\n",
    "    return np.array(distinct).astype(int), len(distinct)"
   ]
  },
  {
   "cell_type": "code",
   "execution_count": 3,
   "metadata": {
    "ExecuteTime": {
     "end_time": "2020-04-09T20:17:42.449562Z",
     "start_time": "2020-04-09T20:17:42.358589Z"
    },
    "deletable": false,
    "editable": false
   },
   "outputs": [],
   "source": [
    "def evaluation(arr_acc):\n",
    "    mean = np.mean(arr_acc)\n",
    "    varian = sum((arr_acc - mean) * (arr_acc - mean)) / len(arr_acc)\n",
    "    std = math.sqrt(varian)\n",
    "    return mean, std"
   ]
  },
  {
   "cell_type": "code",
   "execution_count": 4,
   "metadata": {
    "ExecuteTime": {
     "end_time": "2020-04-09T20:17:42.548768Z",
     "start_time": "2020-04-09T20:17:42.452564Z"
    },
    "deletable": false,
    "editable": false
   },
   "outputs": [],
   "source": [
    "def euclidian(X, Y):\n",
    "    euc = 0\n",
    "    for i in range(len(X)):\n",
    "        euc += math.pow((X[i]-Y[i]), 2)\n",
    "    euc = math.sqrt(euc)\n",
    "    return euc"
   ]
  },
  {
   "cell_type": "markdown",
   "metadata": {
    "deletable": false,
    "editable": false
   },
   "source": [
    "# Pre Processing"
   ]
  },
  {
   "cell_type": "code",
   "execution_count": 5,
   "metadata": {
    "ExecuteTime": {
     "end_time": "2020-04-09T20:17:42.647524Z",
     "start_time": "2020-04-09T20:17:42.549787Z"
    },
    "deletable": false,
    "editable": false
   },
   "outputs": [],
   "source": [
    "def randomize(arr):\n",
    "    for i in range(len(arr)-1, 0, -1):\n",
    "        j = random.randint(0, i)\n",
    "        arr[i], arr[j] = arr[j], arr[i]\n",
    "    return arr"
   ]
  },
  {
   "cell_type": "code",
   "execution_count": 6,
   "metadata": {
    "ExecuteTime": {
     "end_time": "2020-04-09T20:17:42.738395Z",
     "start_time": "2020-04-09T20:17:42.649528Z"
    },
    "deletable": false,
    "editable": false
   },
   "outputs": [],
   "source": [
    "def normalize(data):\n",
    "    data = np.array(data).astype(float)\n",
    "    max_value = np.max(data, axis=0)\n",
    "    min_value = np.min(data, axis=0)\n",
    "    for i in range(len(data)):\n",
    "        for j in range(len(data[0])-1):\n",
    "            data[i][j] = (data[i][j] - min_value[j]) / (max_value[j] - min_value[j])\n",
    "    return data"
   ]
  },
  {
   "cell_type": "code",
   "execution_count": 7,
   "metadata": {
    "ExecuteTime": {
     "end_time": "2020-04-09T20:17:42.881474Z",
     "start_time": "2020-04-09T20:17:42.739393Z"
    },
    "deletable": false,
    "editable": false
   },
   "outputs": [],
   "source": [
    "def handleMissValue(data):\n",
    "    filled_data = np.array([[0 for i in range(len(data[0]))] for j in range(len(data))])\n",
    "    cLabel = count_label(data)[1]\n",
    "    arr_data = [[] for j in range(cLabel)]\n",
    "    mean = []\n",
    "    for i in range(len(data)):\n",
    "        arr_data[int(data[i][-1])-1].append(data[i])\n",
    "    counter = 0\n",
    "    for i in range(len(arr_data)):\n",
    "        mean.append(np.nanmean(arr_data[i], axis=0))\n",
    "        for j in range(len(arr_data[i])):\n",
    "            for k in range(len(arr_data[i][j])):\n",
    "                if np.isnan(arr_data[i][j][k]):\n",
    "                    arr_data[i][j][k] = mean[i][k]\n",
    "            filled_data[counter] = arr_data[i][j]\n",
    "            counter += 1\n",
    "    return filled_data"
   ]
  },
  {
   "cell_type": "code",
   "execution_count": 8,
   "metadata": {
    "ExecuteTime": {
     "end_time": "2020-04-09T20:17:42.967649Z",
     "start_time": "2020-04-09T20:17:42.883470Z"
    },
    "deletable": false,
    "editable": false
   },
   "outputs": [],
   "source": [
    "def extraction(file, is_normal = True, is_random = True):\n",
    "    data = pd.read_excel(file)\n",
    "    data = handleMissValue(np.array(data))\n",
    "    data = pd.DataFrame(data)\n",
    "    data.drop_duplicates()\n",
    "    data = np.array(data)\n",
    "    if is_normal:\n",
    "        data = normalize(data)\n",
    "    if is_random:\n",
    "        data = randomize(data.tolist())\n",
    "    return data"
   ]
  },
  {
   "cell_type": "code",
   "execution_count": 9,
   "metadata": {
    "ExecuteTime": {
     "end_time": "2020-04-09T20:17:43.079378Z",
     "start_time": "2020-04-09T20:17:42.968674Z"
    },
    "deletable": false,
    "editable": false
   },
   "outputs": [],
   "source": [
    "def crossValidation(data, cross_val, cross_index, label_index):\n",
    "    split_test = int(len(data) * (1 / cross_val))\n",
    "    change_index = (cross_index - 1) * split_test\n",
    "    \n",
    "    for i in range(split_test):\n",
    "        j = (i + change_index)\n",
    "        data[i], data[j] = data[j], data[i]\n",
    "    \n",
    "    data_train_feature = pd.DataFrame(data[split_test:]).drop([label_index], axis=1)\n",
    "    data_train_label = pd.DataFrame(pd.DataFrame(data[split_test:]), columns=[label_index]).astype(np.int)\n",
    "    data_test_feature = pd.DataFrame(data[0:split_test]).drop([label_index], axis=1)\n",
    "    data_test_label = pd.DataFrame(pd.DataFrame(data[0:split_test]), columns=[label_index]).astype(np.int)\n",
    "    \n",
    "    data_train_feature = np.array(data_train_feature)\n",
    "    data_train_label = np.array(data_train_label)\n",
    "    data_test_feature = np.array(data_test_feature)\n",
    "    data_test_label = np.array(data_test_label)\n",
    "\n",
    "    return data, data_train_feature, data_train_label, data_test_feature, data_test_label"
   ]
  },
  {
   "cell_type": "markdown",
   "metadata": {
    "deletable": false,
    "editable": false
   },
   "source": [
    "# LMKNN"
   ]
  },
  {
   "cell_type": "code",
   "execution_count": 10,
   "metadata": {
    "ExecuteTime": {
     "end_time": "2020-04-09T20:17:43.169111Z",
     "start_time": "2020-04-09T20:17:43.081346Z"
    },
    "deletable": false,
    "editable": false
   },
   "outputs": [],
   "source": [
    "def closest(Xx, Xx_label, Y, cLabel, k):\n",
    "    distance = [[None for i in range(len(Xx))] for j in range(cLabel)]\n",
    "    min_distance_value = []\n",
    "    min_distance_index = []\n",
    "    for i in range(len(Xx)):\n",
    "        distance[((Xx_label[i][0])-1)][i] = euclidian(Xx[i], Y)\n",
    "    for i in range(cLabel):\n",
    "        min_distance_value.append([])\n",
    "        min_distance_index.append([])\n",
    "        for j in range(k):\n",
    "            mdv = min(x for x in distance[i] if x not in min_distance_value[i] and x is not None)\n",
    "            mdi = distance[i].index(min(x for x in distance[i] if x not in min_distance_value[i] and x is not None)) \n",
    "            min_distance_value[i].append(mdv)\n",
    "            min_distance_index[i].append(mdi)\n",
    "    return distance, min_distance_value, min_distance_index"
   ]
  },
  {
   "cell_type": "code",
   "execution_count": 11,
   "metadata": {
    "ExecuteTime": {
     "end_time": "2020-04-09T20:17:43.291333Z",
     "start_time": "2020-04-09T20:17:43.171104Z"
    },
    "deletable": false,
    "editable": false
   },
   "outputs": [],
   "source": [
    "def localMeanVector(closest, Xx, Y, k):\n",
    "    local_mean = [0 for i in range(len(closest))]\n",
    "    for i in range(len(closest)):\n",
    "        for j in range(len(closest[i])):\n",
    "            local_mean[i] += Xx[closest[i][j]]\n",
    "        local_mean[i] = local_mean[i] / k\n",
    "    return local_mean"
   ]
  },
  {
   "cell_type": "code",
   "execution_count": 12,
   "metadata": {
    "ExecuteTime": {
     "end_time": "2020-04-09T20:17:43.390260Z",
     "start_time": "2020-04-09T20:17:43.293213Z"
    },
    "deletable": false,
    "editable": false
   },
   "outputs": [],
   "source": [
    "def decision(local_mean, Y, Y_label):\n",
    "    distance = [0 for i in range(len(local_mean))]\n",
    "    for i in range(len(local_mean)):\n",
    "        distance[i] = euclidian(local_mean[i], Y)\n",
    "    argmin = distance.index(min(distance)) + 1\n",
    "    return argmin, Y_label[0]"
   ]
  },
  {
   "cell_type": "markdown",
   "metadata": {
    "deletable": false,
    "editable": false
   },
   "source": [
    "# Testing"
   ]
  },
  {
   "cell_type": "code",
   "execution_count": 13,
   "metadata": {
    "ExecuteTime": {
     "end_time": "2020-04-09T20:17:44.672316Z",
     "start_time": "2020-04-09T20:17:43.391200Z"
    },
    "deletable": false,
    "editable": false
   },
   "outputs": [],
   "source": [
    "k = 15\n",
    "file = 'Dataset Pegawai.xlsx'\n",
    "cross_val = 10\n",
    "label_index = 9 #Kinerja\n",
    "normalisasi = False\n",
    "random_data = True\n",
    "data = extraction(file, normalisasi, random_data)\n",
    "arr_kelas, jml_kelas = count_label(data)"
   ]
  },
  {
   "cell_type": "code",
   "execution_count": null,
   "metadata": {
    "deletable": false,
    "editable": false,
    "run_control": {
     "frozen": true
    }
   },
   "outputs": [],
   "source": [
    "arr_mean_acc = [0 for i in range(k)]\n",
    "arr_std_acc  = [0 for i in range(k)]\n",
    "\n",
    "for a in range(1, k + 1): #Pengujian Parameter K\n",
    "    arr_acc = [0 for i in range(cross_val)]\n",
    "    for i in range(1, cross_val + 1):\n",
    "        acc = 0\n",
    "        data, train_f, train_l, test_f, test_l = crossValidation(data, cross_val, i, label_index)\n",
    "        for j in range(len(test_f)):\n",
    "            distance, min_value, min_index = closest(train_f, train_l, test_f[j], jml_kelas, a)\n",
    "            local_mean = localMeanVector(min_index, train_f, test_f[j], a)\n",
    "            predict, actual = decision(local_mean, test_f[j], test_l[j])\n",
    "            if predict == actual:\n",
    "                acc += 1\n",
    "        arr_acc[i-1] = acc/len(test_f)\n",
    "    mean, std = evaluation(arr_acc)\n",
    "    arr_mean_acc[a-1] = mean\n",
    "    arr_std_acc[a-1] = std\n",
    "    print('K-{0} Mean : {1} with Standar Deviation : {2}.'.format(a,mean,std))"
   ]
  },
  {
   "cell_type": "code",
   "execution_count": 14,
   "metadata": {
    "ExecuteTime": {
     "end_time": "2020-04-09T20:17:44.681234Z",
     "start_time": "2020-04-09T20:17:44.674260Z"
    }
   },
   "outputs": [
    {
     "name": "stdout",
     "output_type": "stream",
     "text": [
      "[0.9121580547112462, 0.9037993920972645, 0.898176291793313, 0.8919452887537993, 0.8817629179331306, 0.874468085106383, 0.8673252279635258, 0.8585106382978722, 0.8579027355623101, 0.8465045592705167, 0.8399696048632219, 0.8382978723404255, 0.8337386018237082, 0.825531914893617, 0.8240121580547113]\n",
      "[0.009388112590565632, 0.008128923477395945, 0.011811160624757119, 0.010339932336276007, 0.009189189336067452, 0.012809305474593009, 0.012514715426164252, 0.01049512867514866, 0.012295011288863747, 0.014449683068698732, 0.009966870779373607, 0.013041603618799356, 0.015396869473451607, 0.009984235687329396, 0.015936445871025315]\n"
     ]
    }
   ],
   "source": [
    "print(arr_mean_acc)\n",
    "print(arr_std_acc)"
   ]
  },
  {
   "cell_type": "markdown",
   "metadata": {
    "deletable": false,
    "editable": false
   },
   "source": [
    "# Save Data"
   ]
  },
  {
   "cell_type": "code",
   "execution_count": null,
   "metadata": {
    "deletable": false,
    "editable": false,
    "run_control": {
     "frozen": true
    }
   },
   "outputs": [],
   "source": [
    "dill.dump_session('Pengujian.db')"
   ]
  }
 ],
 "metadata": {
  "kernelspec": {
   "display_name": "Python 3.6.2 64-bit",
   "language": "python",
   "name": "python36264bita850f09a2630471f9307a996c8fc1915"
  },
  "language_info": {
   "codemirror_mode": {
    "name": "ipython",
    "version": 3
   },
   "file_extension": ".py",
   "mimetype": "text/x-python",
   "name": "python",
   "nbconvert_exporter": "python",
   "pygments_lexer": "ipython3",
   "version": "3.6.2"
  },
  "toc": {
   "base_numbering": 1,
   "nav_menu": {},
   "number_sections": true,
   "sideBar": true,
   "skip_h1_title": true,
   "title_cell": "Table of Contents",
   "title_sidebar": "Contents",
   "toc_cell": false,
   "toc_position": {},
   "toc_section_display": true,
   "toc_window_display": false
  }
 },
 "nbformat": 4,
 "nbformat_minor": 2
}
