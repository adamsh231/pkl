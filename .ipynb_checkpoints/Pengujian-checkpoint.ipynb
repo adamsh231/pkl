{
 "cells": [
  {
   "cell_type": "code",
   "execution_count": null,
   "metadata": {},
   "outputs": [],
   "source": [
    "import numpy as np\n",
    "import pandas as pd\n",
    "import math\n",
    "import random"
   ]
  },
  {
   "cell_type": "markdown",
   "metadata": {},
   "source": [
    "# Method"
   ]
  },
  {
   "cell_type": "code",
   "execution_count": null,
   "metadata": {},
   "outputs": [],
   "source": [
    "def count_label(data):\n",
    "    distinct = [data[0][-1]]\n",
    "    for i in range(len(data)):\n",
    "        check = True\n",
    "        for j in range(len(distinct)):\n",
    "            if distinct[j] == data[i][-1]:\n",
    "                check = False\n",
    "        if check:\n",
    "            distinct.append(data[i][-1])\n",
    "    return np.array(distinct).astype(int), len(distinct)"
   ]
  },
  {
   "cell_type": "code",
   "execution_count": null,
   "metadata": {},
   "outputs": [],
   "source": [
    "def evaluation(arr_acc):\n",
    "    mean = np.mean(arr_acc)\n",
    "    varian = sum((arr_acc - mean) * (arr_acc - mean)) / len(arr_acc)\n",
    "    std = math.sqrt(varian)\n",
    "    return mean, std"
   ]
  },
  {
   "cell_type": "code",
   "execution_count": null,
   "metadata": {},
   "outputs": [],
   "source": [
    "def euclidian(X, Y):\n",
    "    euc = 0\n",
    "    for i in range(len(X)):\n",
    "        euc += math.pow((X[i]-Y[i]), 2)\n",
    "    euc = math.sqrt(euc)\n",
    "    return euc"
   ]
  },
  {
   "cell_type": "code",
   "execution_count": null,
   "metadata": {},
   "outputs": [],
   "source": [
    "def randomize(arr):\n",
    "    for i in range(len(arr)-1, 0, -1):\n",
    "        j = random.randint(0, i+1)\n",
    "        arr[i], arr[j] = arr[j], arr[i]\n",
    "    return arr"
   ]
  },
  {
   "cell_type": "code",
   "execution_count": null,
   "metadata": {},
   "outputs": [],
   "source": [
    "def normalize(data):\n",
    "    data = np.array(data).astype(float)\n",
    "    max_value = np.max(data, axis=0)\n",
    "    min_value = np.min(data, axis=0)\n",
    "    for i in range(len(data)):\n",
    "        for j in range(len(data[0])-1):\n",
    "            data[i][j] = (data[i][j] - min_value[j]) / (max_value[j] - min_value[j])\n",
    "    return data"
   ]
  },
  {
   "cell_type": "code",
   "execution_count": null,
   "metadata": {},
   "outputs": [],
   "source": [
    "def handleMissValue(data):\n",
    "    filled_data = np.array([[0 for i in range(len(data[0]))] for j in range(len(data))])\n",
    "    cLabel = count_label(data)[1]\n",
    "    arr_data = [[] for j in range(cLabel)]\n",
    "    mean = []\n",
    "    for i in range(len(data)):\n",
    "        arr_data[int(data[i][-1])-1].append(data[i])\n",
    "    counter = 0\n",
    "    for i in range(len(arr_data)):\n",
    "        mean.append(np.nanmean(arr_data[i], axis=0))\n",
    "        for j in range(len(arr_data[i])):\n",
    "            for k in range(len(arr_data[i][j])):\n",
    "                if np.isnan(arr_data[i][j][k]):\n",
    "                    arr_data[i][j][k] = mean[i][k]\n",
    "            filled_data[counter] = arr_data[i][j]\n",
    "            counter += 1\n",
    "    return filled_data"
   ]
  },
  {
   "cell_type": "code",
   "execution_count": null,
   "metadata": {},
   "outputs": [],
   "source": [
    "def extraction(file, is_normal = True, is_random = True):\n",
    "    data = pd.read_excel(file)\n",
    "    data = handleMissValue(np.array(data))\n",
    "    data = pd.DataFrame(data)\n",
    "    data.drop_duplicates()\n",
    "    data = np.array(data)\n",
    "    if is_normal:\n",
    "        data = normalize(data)\n",
    "    if is_random:\n",
    "        data = randomize(data)\n",
    "    return data"
   ]
  },
  {
   "cell_type": "code",
   "execution_count": null,
   "metadata": {},
   "outputs": [],
   "source": []
  }
 ],
 "metadata": {
  "kernelspec": {
   "display_name": "Python 3.6.2 64-bit",
   "language": "python",
   "name": "python36264bita850f09a2630471f9307a996c8fc1915"
  },
  "language_info": {
   "codemirror_mode": {
    "name": "ipython",
    "version": 3
   },
   "file_extension": ".py",
   "mimetype": "text/x-python",
   "name": "python",
   "nbconvert_exporter": "python",
   "pygments_lexer": "ipython3",
   "version": "3.6.2"
  },
  "toc": {
   "base_numbering": 1,
   "nav_menu": {},
   "number_sections": true,
   "sideBar": true,
   "skip_h1_title": true,
   "title_cell": "Table of Contents",
   "title_sidebar": "Contents",
   "toc_cell": false,
   "toc_position": {},
   "toc_section_display": true,
   "toc_window_display": false
  }
 },
 "nbformat": 4,
 "nbformat_minor": 2
}
