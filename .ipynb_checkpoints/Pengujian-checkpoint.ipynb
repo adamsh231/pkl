{
 "cells": [
  {
   "cell_type": "code",
   "execution_count": 1,
   "metadata": {
    "ExecuteTime": {
     "end_time": "2020-04-08T20:34:47.901199Z",
     "start_time": "2020-04-08T20:34:47.212900Z"
    }
   },
   "outputs": [],
   "source": [
    "import numpy as np\n",
    "import pandas as pd\n",
    "import math\n",
    "import random"
   ]
  },
  {
   "cell_type": "markdown",
   "metadata": {
    "heading_collapsed": true
   },
   "source": [
    "# Support"
   ]
  },
  {
   "cell_type": "code",
   "execution_count": 2,
   "metadata": {
    "ExecuteTime": {
     "end_time": "2020-04-08T20:34:47.909141Z",
     "start_time": "2020-04-08T20:34:47.902187Z"
    },
    "hidden": true
   },
   "outputs": [],
   "source": [
    "def count_label(data):\n",
    "    distinct = [data[0][-1]]\n",
    "    for i in range(len(data)):\n",
    "        check = True\n",
    "        for j in range(len(distinct)):\n",
    "            if distinct[j] == data[i][-1]:\n",
    "                check = False\n",
    "        if check:\n",
    "            distinct.append(data[i][-1])\n",
    "    return np.array(distinct).astype(int), len(distinct)"
   ]
  },
  {
   "cell_type": "code",
   "execution_count": 3,
   "metadata": {
    "ExecuteTime": {
     "end_time": "2020-04-08T20:34:48.025664Z",
     "start_time": "2020-04-08T20:34:47.911168Z"
    },
    "hidden": true
   },
   "outputs": [],
   "source": [
    "def evaluation(arr_acc):\n",
    "    mean = np.mean(arr_acc)\n",
    "    varian = sum((arr_acc - mean) * (arr_acc - mean)) / len(arr_acc)\n",
    "    std = math.sqrt(varian)\n",
    "    return mean, std"
   ]
  },
  {
   "cell_type": "code",
   "execution_count": 5,
   "metadata": {
    "ExecuteTime": {
     "end_time": "2020-04-08T20:34:48.181307Z",
     "start_time": "2020-04-08T20:34:48.105120Z"
    },
    "hidden": true
   },
   "outputs": [],
   "source": [
    "def euclidian(X, Y):\n",
    "    euc = 0\n",
    "    for i in range(len(X)):\n",
    "        euc += math.pow((X[i]-Y[i]), 2)\n",
    "    euc = math.sqrt(euc)\n",
    "    return euc"
   ]
  },
  {
   "cell_type": "markdown",
   "metadata": {
    "heading_collapsed": true
   },
   "source": [
    "# Pre Processing"
   ]
  },
  {
   "cell_type": "code",
   "execution_count": 6,
   "metadata": {
    "ExecuteTime": {
     "end_time": "2020-04-08T20:34:48.259427Z",
     "start_time": "2020-04-08T20:34:48.182333Z"
    },
    "hidden": true
   },
   "outputs": [],
   "source": [
    "def randomize(arr):\n",
    "    for i in range(len(arr)-1, 0, -1):\n",
    "        j = random.randint(0, i)\n",
    "        arr[i], arr[j] = arr[j], arr[i]\n",
    "    return arr"
   ]
  },
  {
   "cell_type": "code",
   "execution_count": 7,
   "metadata": {
    "ExecuteTime": {
     "end_time": "2020-04-08T20:34:48.359266Z",
     "start_time": "2020-04-08T20:34:48.261443Z"
    },
    "hidden": true
   },
   "outputs": [],
   "source": [
    "def normalize(data):\n",
    "    data = np.array(data).astype(float)\n",
    "    max_value = np.max(data, axis=0)\n",
    "    min_value = np.min(data, axis=0)\n",
    "    for i in range(len(data)):\n",
    "        for j in range(len(data[0])-1):\n",
    "            data[i][j] = (data[i][j] - min_value[j]) / (max_value[j] - min_value[j])\n",
    "    return data"
   ]
  },
  {
   "cell_type": "code",
   "execution_count": 8,
   "metadata": {
    "ExecuteTime": {
     "end_time": "2020-04-08T20:34:48.437180Z",
     "start_time": "2020-04-08T20:34:48.362163Z"
    },
    "hidden": true
   },
   "outputs": [],
   "source": [
    "def handleMissValue(data):\n",
    "    filled_data = np.array([[0 for i in range(len(data[0]))] for j in range(len(data))])\n",
    "    cLabel = count_label(data)[1]\n",
    "    arr_data = [[] for j in range(cLabel)]\n",
    "    mean = []\n",
    "    for i in range(len(data)):\n",
    "        arr_data[int(data[i][-1])-1].append(data[i])\n",
    "    counter = 0\n",
    "    for i in range(len(arr_data)):\n",
    "        mean.append(np.nanmean(arr_data[i], axis=0))\n",
    "        for j in range(len(arr_data[i])):\n",
    "            for k in range(len(arr_data[i][j])):\n",
    "                if np.isnan(arr_data[i][j][k]):\n",
    "                    arr_data[i][j][k] = mean[i][k]\n",
    "            filled_data[counter] = arr_data[i][j]\n",
    "            counter += 1\n",
    "    return filled_data"
   ]
  },
  {
   "cell_type": "code",
   "execution_count": 9,
   "metadata": {
    "ExecuteTime": {
     "end_time": "2020-04-08T20:34:48.536960Z",
     "start_time": "2020-04-08T20:34:48.438147Z"
    },
    "hidden": true
   },
   "outputs": [],
   "source": [
    "def extraction(file, is_normal = True, is_random = True):\n",
    "    data = pd.read_excel(file)\n",
    "    data = handleMissValue(np.array(data))\n",
    "    data = pd.DataFrame(data)\n",
    "    data.drop_duplicates()\n",
    "    data = np.array(data)\n",
    "    if is_normal:\n",
    "        data = normalize(data)\n",
    "    if is_random:\n",
    "        data = randomize(data.tolist())\n",
    "    return data"
   ]
  },
  {
   "cell_type": "code",
   "execution_count": 10,
   "metadata": {
    "ExecuteTime": {
     "end_time": "2020-04-08T20:34:48.636460Z",
     "start_time": "2020-04-08T20:34:48.537986Z"
    },
    "hidden": true
   },
   "outputs": [],
   "source": [
    "def crossValidation(data, cross_val, cross_index, label_index):\n",
    "    split_test = int(len(data) * (1 / cross_val))\n",
    "    change_index = (cross_index - 1) * split_test\n",
    "    \n",
    "    for i in range(split_test):\n",
    "        j = (i + change_index)\n",
    "        data[i], data[j] = data[j], data[i]\n",
    "    \n",
    "    data_train_feature = pd.DataFrame(data[split_test:]).drop([label_index], axis=1)\n",
    "    data_train_label = pd.DataFrame(pd.DataFrame(data[split_test:]), columns=[label_index]).astype(np.int)\n",
    "    data_test_feature = pd.DataFrame(data[0:split_test]).drop([label_index], axis=1)\n",
    "    data_test_label = pd.DataFrame(pd.DataFrame(data[0:split_test]), columns=[label_index]).astype(np.int)\n",
    "    \n",
    "    data_train_feature = np.array(data_train_feature)\n",
    "    data_train_label = np.array(data_train_label)\n",
    "    data_test_feature = np.array(data_test_feature)\n",
    "    data_test_label = np.array(data_test_label)\n",
    "\n",
    "    return data, data_train_feature, data_train_label, data_test_feature, data_test_label"
   ]
  },
  {
   "cell_type": "markdown",
   "metadata": {
    "heading_collapsed": true
   },
   "source": [
    "# LMKNN"
   ]
  },
  {
   "cell_type": "code",
   "execution_count": 11,
   "metadata": {
    "ExecuteTime": {
     "end_time": "2020-04-08T20:34:48.713606Z",
     "start_time": "2020-04-08T20:34:48.638368Z"
    },
    "hidden": true
   },
   "outputs": [],
   "source": [
    "def closest(Xx, Xx_label, Y, cLabel, k):\n",
    "    distance = [[None for i in range(len(Xx))] for j in range(cLabel)]\n",
    "    min_distance_value = []\n",
    "    min_distance_index = []\n",
    "    for i in range(len(Xx)):\n",
    "        distance[((Xx_label[i][0])-1)][i] = euclidian(Xx[i], Y)\n",
    "    for i in range(cLabel):\n",
    "        min_distance_value.append([])\n",
    "        min_distance_index.append([])\n",
    "        for j in range(k):\n",
    "            mdv = min(x for x in distance[i] if x not in min_distance_value[i] and x is not None)\n",
    "            mdi = distance[i].index(min(x for x in distance[i] if x not in min_distance_value[i] and x is not None)) \n",
    "            min_distance_value[i].append(mdv)\n",
    "            min_distance_index[i].append(mdi)\n",
    "    return distance, min_distance_value, min_distance_index"
   ]
  },
  {
   "cell_type": "code",
   "execution_count": 12,
   "metadata": {
    "ExecuteTime": {
     "end_time": "2020-04-08T20:34:48.824712Z",
     "start_time": "2020-04-08T20:34:48.714594Z"
    },
    "hidden": true
   },
   "outputs": [],
   "source": [
    "def localMeanVector(closest, Xx, Y, k):\n",
    "    local_mean = [0 for i in range(len(closest))]\n",
    "    for i in range(len(closest)):\n",
    "        for j in range(len(closest[i])):\n",
    "            local_mean[i] += Xx[closest[i][j]]\n",
    "        local_mean[i] = local_mean[i] / k\n",
    "    return local_mean"
   ]
  },
  {
   "cell_type": "code",
   "execution_count": 13,
   "metadata": {
    "ExecuteTime": {
     "end_time": "2020-04-08T20:34:48.900545Z",
     "start_time": "2020-04-08T20:34:48.825680Z"
    },
    "hidden": true
   },
   "outputs": [],
   "source": [
    "def decision(local_mean, Y, Y_label):\n",
    "    distance = [0 for i in range(len(local_mean))]\n",
    "    for i in range(len(local_mean)):\n",
    "        distance[i] = euclidian(local_mean[i], Y)\n",
    "    argmin = distance.index(min(distance)) + 1\n",
    "    return argmin, Y_label[0]"
   ]
  },
  {
   "cell_type": "markdown",
   "metadata": {},
   "source": [
    "# Testing"
   ]
  },
  {
   "cell_type": "code",
   "execution_count": 14,
   "metadata": {
    "ExecuteTime": {
     "end_time": "2020-04-08T20:34:50.032610Z",
     "start_time": "2020-04-08T20:34:48.901541Z"
    }
   },
   "outputs": [],
   "source": [
    "k = 15\n",
    "file = 'Dataset Pegawai.xlsx'\n",
    "cross_val = 10\n",
    "label_index = 9 #Kinerja\n",
    "normalisasi = True\n",
    "random_data = True\n",
    "data = extraction(file, normalisasi, random_data)\n",
    "arr_kelas, jml_kelas = count_label(data)"
   ]
  },
  {
   "cell_type": "code",
   "execution_count": null,
   "metadata": {
    "ExecuteTime": {
     "start_time": "2020-04-08T20:34:47.243Z"
    }
   },
   "outputs": [
    {
     "name": "stdout",
     "output_type": "stream",
     "text": [
      "K-1 Mean : 0.9519756838905776 with Standar Deviation : 0.01077206391894791.\n",
      "K-2 Mean : 0.9591185410334347 with Standar Deviation : 0.009230568169641459.\n",
      "K-3 Mean : 0.9612462006079026 with Standar Deviation : 0.01044660112831877.\n",
      "K-4 Mean : 0.9598784194528875 with Standar Deviation : 0.007635171238346798.\n",
      "K-5 Mean : 0.96048632218845 with Standar Deviation : 0.008861629019521729.\n",
      "K-6 Mean : 0.9601823708206687 with Standar Deviation : 0.008856414762512744.\n",
      "K-7 Mean : 0.9617021276595745 with Standar Deviation : 0.00890841999377073.\n",
      "K-8 Mean : 0.9620060790273556 with Standar Deviation : 0.0066938345123237625.\n",
      "K-9 Mean : 0.9597264437689971 with Standar Deviation : 0.009641776246542168.\n",
      "K-10 Mean : 0.9595744680851063 with Standar Deviation : 0.009249315534773829.\n",
      "K-11 Mean : 0.9598784194528877 with Standar Deviation : 0.008494339582056015.\n"
     ]
    }
   ],
   "source": [
    "arr_mean_acc = [0 for i in range(k)]\n",
    "arr_std_acc  = [0 for i in range(k)]\n",
    "\n",
    "for a in range(1, k + 1): #Pengujian Parameter K\n",
    "    arr_acc = [0 for i in range(cross_val)]\n",
    "    for i in range(1, cross_val + 1):\n",
    "        acc = 0\n",
    "        data, train_f, train_l, test_f, test_l = crossValidation(data, cross_val, i, label_index)\n",
    "        for j in range(len(test_f)):\n",
    "            distance, min_value, min_index = closest(train_f, train_l, test_f[j], jml_kelas, a)\n",
    "            local_mean = localMeanVector(min_index, train_f, test_f[j], a)\n",
    "            predict, actual = decision(local_mean, test_f[j], test_l[j])\n",
    "            if predict == actual:\n",
    "                acc += 1\n",
    "        arr_acc[i-1] = acc/len(test_f)\n",
    "    mean, std = evaluation(arr_acc)\n",
    "    arr_mean_acc[a-1] = mean\n",
    "    arr_std_acc[a-1] = std\n",
    "    print('K-{0} Mean : {1} with Standar Deviation : {2}.'.format(a,mean,std))"
   ]
  }
 ],
 "metadata": {
  "kernelspec": {
   "display_name": "Python 3.6.2 64-bit",
   "language": "python",
   "name": "python36264bita850f09a2630471f9307a996c8fc1915"
  },
  "language_info": {
   "codemirror_mode": {
    "name": "ipython",
    "version": 3
   },
   "file_extension": ".py",
   "mimetype": "text/x-python",
   "name": "python",
   "nbconvert_exporter": "python",
   "pygments_lexer": "ipython3",
   "version": "3.6.2"
  },
  "toc": {
   "base_numbering": 1,
   "nav_menu": {},
   "number_sections": true,
   "sideBar": true,
   "skip_h1_title": true,
   "title_cell": "Table of Contents",
   "title_sidebar": "Contents",
   "toc_cell": false,
   "toc_position": {},
   "toc_section_display": true,
   "toc_window_display": false
  }
 },
 "nbformat": 4,
 "nbformat_minor": 2
}
